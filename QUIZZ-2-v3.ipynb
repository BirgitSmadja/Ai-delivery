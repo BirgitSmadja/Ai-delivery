{
 "cells": [
  {
   "cell_type": "markdown",
   "metadata": {},
   "source": [
    "## Linear Algebra Quiz #2\n",
    "\n",
    "![title](./img/2_1.jpeg)\n",
    "\n",
    "We strongly suggest working with numpy :)"
   ]
  },
  {
   "cell_type": "code",
   "execution_count": 174,
   "metadata": {},
   "outputs": [],
   "source": [
    "import numpy as np"
   ]
  },
  {
   "cell_type": "markdown",
   "metadata": {},
   "source": [
    "![title](./img/2_2.png)\n",
    "- Which vectors below define a plane spanned by a linear combination?"
   ]
  },
  {
   "cell_type": "code",
   "execution_count": 209,
   "metadata": {},
   "outputs": [
    {
     "name": "stdout",
     "output_type": "stream",
     "text": [
      "Matrix:\n",
      " [[1 2 3]\n",
      " [4 4 4]\n",
      " [8 8 8]]\n",
      "Eigenwerte Lambda:\n",
      "  [ 1.43898669e+01 -1.38986692e+00 -8.20803901e-16]\n",
      "Eigenvektor:  [[ 0.25813938  0.83154279  0.40824829]\n",
      " [ 0.43205649 -0.24840958 -0.81649658]\n",
      " [ 0.86411298 -0.49681915  0.40824829]]\n",
      "Dependent Vectors found\n",
      "search for dependent vectors finished\n"
     ]
    }
   ],
   "source": [
    "#def plane(a,b,c):\n",
    "#returns false if the vectors do define a plane and returns which are those vectors if true\n",
    "a= np.array([1,2,3])\n",
    "b= np.array([4,4,4])\n",
    "c= np.array([8,8,8])\n",
    "\n",
    "#def plane(a,b,c)\n",
    "#Ax=λx heißt Eigenvektor der Matrix A zum Eigenwert λ.\n",
    "matrix = np.stack((a,b,c))\n",
    "print(\"Matrix:\\n\", matrix)\n",
    "eigenwerte_lambda, eigen_vector = np.linalg.eig(matrix)\n",
    "print(\"Eigenwerte Lambda:\\n \",eigenwerte_lambda)\n",
    "print(\"Eigenvektor: \",eigen_vector)\n",
    "\n",
    "#check if one Lambda is zero: alltogether: 3D falls to 2D\n",
    "#for i in range(2):\n",
    "for i in range(3):\n",
    "    if abs(eigenwerte_lambda[i]) < 10e-15:\n",
    "# Setting done for \"nearly zero\" is to be calculated properly :\n",
    "            print(\"Dependent Vectors found\")\n",
    "    else:\n",
    "        pass\n",
    "print(\"search for dependent vectors finished\")"
   ]
  },
  {
   "cell_type": "code",
   "execution_count": 176,
   "metadata": {},
   "outputs": [
    {
     "name": "stdout",
     "output_type": "stream",
     "text": [
      "The vectors are not independent!\n"
     ]
    }
   ],
   "source": [
    "# CHECK FOR LINEAR INDEPENDENCY OF 3 VECTORS\n",
    "v1= np.array([1,2,3])\n",
    "v2= np.array([2,2,2])\n",
    "v3= np.array([8,8,8])\n",
    "\n",
    "#Check vectors angles x,y-> if parallels found ->result is True\n",
    "v1_theta = np.arctan(v1[0]/v1[1])\n",
    "v2_theta = np.arctan(v2[0]/v2[1])\n",
    "v3_theta = np.arctan(v3[0]/v3[1])\n",
    "result_1 = (v1_theta == v2_theta) or (v2_theta == v3_theta) \n",
    "\n",
    "#Check next plane y,z - enough to check 2 planes in 3D\n",
    "v1_theta = np.arctan(v1[1]/v1[2])\n",
    "v2_theta = np.arctan(v2[1]/v2[2])\n",
    "v3_theta = np.arctan(v3[1]/v3[2])\n",
    "result_2 = (v1_theta == v2_theta) or (v2_theta == v3_theta) \n",
    "\n",
    "\n",
    "if (result_1 == True) or (result_2 == True): \n",
    "    print(\"The vectors are not independent!\")    \n",
    "else:\n",
    "    print (\"Vectors define a 3D-world\")\n",
    "\n"
   ]
  },
  {
   "cell_type": "markdown",
   "metadata": {},
   "source": [
    "![title](./img/2_3.png)\n",
    "- What is the solution for a and b?"
   ]
  },
  {
   "cell_type": "code",
   "execution_count": null,
   "metadata": {},
   "outputs": [],
   "source": [
    "# do you need a function for this? What is the most efficient way to solve it?"
   ]
  },
  {
   "cell_type": "markdown",
   "metadata": {},
   "source": [
    "![title](./img/2_4.png)\n",
    "- What is the solution for a and b?"
   ]
  },
  {
   "cell_type": "code",
   "execution_count": null,
   "metadata": {},
   "outputs": [],
   "source": [
    "# Idem. Do you need a function for this? What is the most efficient way to solve it?"
   ]
  }
 ],
 "metadata": {
  "kernelspec": {
   "display_name": "Python 3",
   "language": "python",
   "name": "python3"
  },
  "language_info": {
   "codemirror_mode": {
    "name": "ipython",
    "version": 3
   },
   "file_extension": ".py",
   "mimetype": "text/x-python",
   "name": "python",
   "nbconvert_exporter": "python",
   "pygments_lexer": "ipython3",
   "version": "3.8.8"
  },
  "varInspector": {
   "cols": {
    "lenName": 16,
    "lenType": 16,
    "lenVar": 40
   },
   "kernels_config": {
    "python": {
     "delete_cmd_postfix": "",
     "delete_cmd_prefix": "del ",
     "library": "var_list.py",
     "varRefreshCmd": "print(var_dic_list())"
    },
    "r": {
     "delete_cmd_postfix": ") ",
     "delete_cmd_prefix": "rm(",
     "library": "var_list.r",
     "varRefreshCmd": "cat(var_dic_list()) "
    }
   },
   "types_to_exclude": [
    "module",
    "function",
    "builtin_function_or_method",
    "instance",
    "_Feature"
   ],
   "window_display": false
  }
 },
 "nbformat": 4,
 "nbformat_minor": 2
}
