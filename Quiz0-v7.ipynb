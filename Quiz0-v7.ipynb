{
 "cells": [
  {
   "cell_type": "markdown",
   "metadata": {},
   "source": [
    "\n",
    "# Vectors and Matrices\n",
    "Time to work! Do it with numpy first and then if you have time, manually by hand :)"
   ]
  },
  {
   "cell_type": "markdown",
   "metadata": {},
   "source": [
    "## Vectors"
   ]
  },
  {
   "cell_type": "markdown",
   "metadata": {},
   "source": [
    "Lists can be used to represent mathematical vectors. In this exercise and several that follow you will write functions to perform standard operations on vectors. Create a file named vectors.py or use the Jupyter notebook provided\n",
    "\n",
    "Write a function add_vectors(u, v) that takes two lists of numbers of the same length, and returns a new list containing the sums of the corresponding elements of each.\n",
    "\n",
    "**Note that the text in \"\"\" \"\"\" is provided for you to accurately verify that your function works :)**"
   ]
  },
  {
   "cell_type": "code",
   "execution_count": 215,
   "metadata": {
    "ExecuteTime": {
     "end_time": "2021-06-07T12:55:04.065651Z",
     "start_time": "2021-06-07T12:55:04.052145Z"
    }
   },
   "outputs": [],
   "source": [
    "import numpy as np\n",
    "import pandas as pd"
   ]
  },
  {
   "cell_type": "code",
   "execution_count": 216,
   "metadata": {
    "ExecuteTime": {
     "end_time": "2021-06-07T12:55:04.065651Z",
     "start_time": "2021-06-07T12:55:04.052145Z"
    }
   },
   "outputs": [],
   "source": [
    "def add_vectors(u, v):\n",
    "    u = np.array(u)\n",
    "    v = np.array(v)\n",
    "    result = u + v\n",
    "    print(result)\n",
    "    return result"
   ]
  },
  {
   "cell_type": "code",
   "execution_count": 217,
   "metadata": {
    "ExecuteTime": {
     "end_time": "2021-06-07T12:55:04.065651Z",
     "start_time": "2021-06-07T12:55:04.052145Z"
    }
   },
   "outputs": [
    {
     "name": "stdout",
     "output_type": "stream",
     "text": [
      "[2 1]\n",
      "[2 6]\n",
      "[2 6 4]\n",
      "[13 -4 13  5]\n",
      "[2 3 4]\n",
      "[2 3 4]\n"
     ]
    }
   ],
   "source": [
    "#test OK\n",
    "add_vectors([1, 0], [1, 1])\n",
    "add_vectors([1, 2], [1, 4])\n",
    "add_vectors([1, 2, 1], [1, 4, 3])\n",
    "add_vectors([11, 0, -4, 5], [2, -4, 17, 0])\n",
    "a = [1, 2, 3]\n",
    "b = [1, 1, 1]\n",
    "add_vectors(a, b)\n",
    "a = [1, 2, 3]\n",
    "b = [1, 1, 1]\n",
    "add_vectors(a, b)\n",
    "\"\"\"\n",
    "      >>> add_vectors([1, 0], [1, 1])\n",
    "      [2, 1]\n",
    "      >>> add_vectors([1, 2], [1, 4])\n",
    "      [2, 6]\n",
    "      >>> add_vectors([1, 2, 1], [1, 4, 3])\n",
    "      [2, 6, 4]\n",
    "      >>> add_vectors([11, 0, -4, 5], [2, -4, 17, 0])\n",
    "      [13, -4, 13, 5]\n",
    "      >>> a = [1, 2, 3]\n",
    "      >>> b = [1, 1, 1]\n",
    "      >>> add_vectors(a, b)\n",
    "      [2, 3, 4]\n",
    "      >>> a\n",
    "      [1, 2, 3]\n",
    "      >>> b\n",
    "      [1, 1, 1]\n",
    "\"\"\"\n",
    "pass"
   ]
  },
  {
   "cell_type": "markdown",
   "metadata": {},
   "source": [
    "Write a function scalar_mult(s, v) that takes a number, s, and a list, v and returns the [scalar multiple](https://en.wikipedia.org/wiki/Scalar_multiplication) of v by s."
   ]
  },
  {
   "cell_type": "code",
   "execution_count": 218,
   "metadata": {
    "ExecuteTime": {
     "end_time": "2021-06-07T12:55:19.258850Z",
     "start_time": "2021-06-07T12:55:19.249823Z"
    }
   },
   "outputs": [],
   "source": [
    "def scalar_mult(s, v):\n",
    "    v = np.array(v)\n",
    "    result = v*s\n",
    "    print(result)\n",
    "    return(result)"
   ]
  },
  {
   "cell_type": "code",
   "execution_count": 219,
   "metadata": {
    "ExecuteTime": {
     "end_time": "2021-06-07T12:55:19.258850Z",
     "start_time": "2021-06-07T12:55:19.249823Z"
    }
   },
   "outputs": [
    {
     "name": "stdout",
     "output_type": "stream",
     "text": [
      "[ 3  0 -3]\n",
      "[21  0 35 77 14]\n",
      "[ 4  8 12]\n"
     ]
    }
   ],
   "source": [
    "# test OK\n",
    "scalar_mult(3, [1, 0, -1])\n",
    "scalar_mult(7, [3, 0, 5, 11, 2])\n",
    "a = [1, 2, 3]\n",
    "scalar_mult(4, a)\n",
    "\"\"\"   >>> scalar_mult(3, [1, 0, -1])\n",
    "      [3, 0, -3]\n",
    "      >>> scalar_mult(7, [3, 0, 5, 11, 2])\n",
    "      [21, 0, 35, 77, 14]\n",
    "      >>> a = [1, 2, 3]\n",
    "      >>> scalar_mult(4, a)\n",
    "      [4, 8, 12]\n",
    "      >>> a\n",
    "      [1, 2, 3]\n",
    "\"\"\"\n",
    "pass"
   ]
  },
  {
   "cell_type": "markdown",
   "metadata": {},
   "source": [
    "Write a function dot_product(u, v) that takes two lists of numbers of the same length, and returns the sum of the products of the corresponding elements of each (the [dot_product](https://en.wikipedia.org/wiki/Dot_product)."
   ]
  },
  {
   "cell_type": "code",
   "execution_count": 220,
   "metadata": {
    "ExecuteTime": {
     "end_time": "2021-06-07T12:55:22.647998Z",
     "start_time": "2021-06-07T12:55:22.642607Z"
    }
   },
   "outputs": [
    {
     "name": "stdout",
     "output_type": "stream",
     "text": [
      "Test:\n",
      "2\n",
      "9\n",
      "12\n",
      "0\n"
     ]
    },
    {
     "data": {
      "text/plain": [
       "0"
      ]
     },
     "execution_count": 220,
     "metadata": {},
     "output_type": "execute_result"
    }
   ],
   "source": [
    "def dot_product(u, v):\n",
    "    u = np.array(u)\n",
    "    v = np.array(v)\n",
    "    result = np.dot(u, v)\n",
    "    print(result)\n",
    "    return result\n",
    "print(\"Test:\")\n",
    "dot_product([1, 1], [1, 1])\n",
    "dot_product([1, 2], [1, 4])\n",
    "dot_product([1, 2, 1], [1, 4, 3])\n",
    "dot_product([2, 0, -1, 1], [1, 5, 2, 0])"
   ]
  },
  {
   "cell_type": "code",
   "execution_count": 221,
   "metadata": {
    "ExecuteTime": {
     "end_time": "2021-06-07T12:55:22.647998Z",
     "start_time": "2021-06-07T12:55:22.642607Z"
    }
   },
   "outputs": [],
   "source": [
    "    \"\"\" dot product info\n",
    "      >>> dot_product([1, 1], [1, 1])\n",
    "      2\n",
    "      >>> dot_product([1, 2], [1, 4])\n",
    "      9\n",
    "      >>> dot_product([1, 2, 1], [1, 4, 3])\n",
    "      12\n",
    "      >>> dot_product([2, 0, -1, 1], [1, 5, 2, 0])\n",
    "      0\n",
    "    \"\"\"\n",
    "    pass"
   ]
  },
  {
   "cell_type": "markdown",
   "metadata": {},
   "source": [
    "## Matrices"
   ]
  },
  {
   "cell_type": "markdown",
   "metadata": {},
   "source": [
    "Create a new module named matrices.py or *use the Jupyter notebook provided* and add the following function, which returns a copy of nested lists of numbers such that the lists are not aliases:"
   ]
  },
  {
   "cell_type": "code",
   "execution_count": 222,
   "metadata": {
    "ExecuteTime": {
     "end_time": "2021-06-07T12:55:25.891991Z",
     "start_time": "2021-06-07T12:55:25.888466Z"
    }
   },
   "outputs": [
    {
     "name": "stdout",
     "output_type": "stream",
     "text": [
      "[[1, 2], [3, 4]]\n",
      "[[1 2]\n",
      " [3 4]]\n",
      "[[1, 2, 3], [4, 5, 6]]\n",
      "[[1 2 3]\n",
      " [4 5 6]]\n",
      "[[1, 2], [3, 4], [5, 6], [7, 8]]\n",
      "[[1 2]\n",
      " [3 4]\n",
      " [5 6]\n",
      " [7 8]]\n"
     ]
    }
   ],
   "source": [
    "def copy_matrix(matrix):\n",
    "    matrix = matrix\n",
    "    other_matrix = np.copy(matrix)\n",
    "    matrix\n",
    "    other_matrix = other_matrix\n",
    "    print(matrix)\n",
    "    print(other_matrix)\n",
    "    return other_matrix\n",
    "#test\n",
    "copy_matrix([[1, 2], [3, 4]])\n",
    "copy_matrix([[1, 2, 3], [4, 5, 6]])\n",
    "copy_matrix([[1, 2], [3, 4], [5, 6], [7, 8]])\n",
    "\n",
    "# test OK , checked! Remark: matrix and copy_matrix change independently\n",
    "# dont did the case supplied, but ists fullfilled\n",
    "\"\"\"\n",
    "      >>> copy_matrix([[1, 2], [3, 4]])\n",
    "      [[1, 2], [3, 4]]\n",
    "      >>> copy_matrix([[1, 2, 3], [4, 5, 6]])\n",
    "      [[1, 2, 3], [4, 5, 6]]\n",
    "      >>> copy_matrix([[1, 2], [3, 4], [5, 6], [7, 8]])\n",
    "      [[1, 2], [3, 4], [5, 6], [7, 8]]\n",
    "      >>> m = [[1, 0, 0], [0, 2, 0], [0, 0, 3]]\n",
    "      >>> copyofm = copy_matrix(m)\n",
    "      >>> copyofm\n",
    "      [[1, 0, 0], [0, 2, 0], [0, 0, 3]]\n",
    "      >>> for row_num, row in enumerate(copyofm):\n",
    "      ...     for col_num, col_val in enumerate(row):\n",
    "      ...         copyofm[row_num][col_num] = 42\n",
    "      ...\n",
    "      >>> copyofm\n",
    "      [[42, 42, 42], [42, 42, 42], [42, 42, 42]]\n",
    "      >>> m\n",
    "      [[1, 0, 0], [0, 2, 0], [0, 0, 3]]\n",
    "\"\"\"\n",
    "pass"
   ]
  },
  {
   "cell_type": "code",
   "execution_count": 223,
   "metadata": {
    "ExecuteTime": {
     "end_time": "2021-06-07T12:55:28.752996Z",
     "start_time": "2021-06-07T12:55:28.749066Z"
    }
   },
   "outputs": [
    {
     "name": "stdout",
     "output_type": "stream",
     "text": [
      "Size of the Matrix: 8\n",
      "Rows of the Matrix 4\n",
      "Columns of the Matrix: 2\n",
      "New row to be added: [0. 0.]\n",
      "[[1. 2.]\n",
      " [3. 4.]\n",
      " [5. 6.]\n",
      " [7. 8.]\n",
      " [0. 0.]]\n",
      "happy \n"
     ]
    }
   ],
   "source": [
    "#def add_row(matrix, row)- long version:\n",
    "\n",
    "matrix = [[1, 2], [3, 4], [5, 6], [7, 8]]\n",
    "matrix = np.array(matrix)\n",
    "size_m = matrix.size\n",
    "rows_m = len(matrix)\n",
    "columns_m = int(size_m/rows_m)\n",
    "print(\"Size of the Matrix:\",size_m)\n",
    "print(\"Rows of the Matrix\",rows_m)\n",
    "print(\"Columns of the Matrix:\", columns_m)\n",
    "new_row = np.zeros(columns_m)\n",
    "new_row_array = np.array(new_row)\n",
    "print(\"New row to be added:\",new_row_array)\n",
    "result = np.vstack([matrix, new_row])\n",
    "#print(matrix)\n",
    "print(result)\n",
    "print(\"happy \")"
   ]
  },
  {
   "cell_type": "code",
   "execution_count": 224,
   "metadata": {
    "ExecuteTime": {
     "end_time": "2021-06-07T12:55:28.752996Z",
     "start_time": "2021-06-07T12:55:28.749066Z"
    }
   },
   "outputs": [
    {
     "name": "stdout",
     "output_type": "stream",
     "text": [
      "Size of the Matrix: 8\n",
      "Rows of the Matrix 4\n",
      "Columns of the Matrix: 2\n",
      "New column to be added: [0. 0. 0. 0.]\n",
      "[[1. 2. 0.]\n",
      " [3. 4. 0.]\n",
      " [5. 6. 0.]\n",
      " [7. 8. 0.]]\n",
      "happy \n"
     ]
    }
   ],
   "source": [
    "#Add column, names CORRECTed\n",
    "matrix = [[1, 2], [3, 4], [5, 6], [7, 8]]\n",
    "matrix = np.array(matrix)\n",
    "size_m = matrix.size\n",
    "rows_m = len(matrix)\n",
    "columns_m = int(size_m/rows_m)\n",
    "print(\"Size of the Matrix:\",size_m)\n",
    "print(\"Rows of the Matrix\",rows_m)\n",
    "print(\"Columns of the Matrix:\", columns_m)\n",
    "new_row = np.zeros(rows_m)\n",
    "new_row_array = np.array(new_row)\n",
    "print(\"New column to be added:\",new_row_array)\n",
    "result = np.column_stack([matrix, new_row])\n",
    "#print(matrix)\n",
    "print(result)\n",
    "print(\"happy \")"
   ]
  },
  {
   "cell_type": "code",
   "execution_count": 225,
   "metadata": {
    "ExecuteTime": {
     "end_time": "2021-06-07T12:55:28.752996Z",
     "start_time": "2021-06-07T12:55:28.749066Z"
    }
   },
   "outputs": [
    {
     "ename": "SyntaxError",
     "evalue": "'return' outside function (<ipython-input-225-1b3b1e3afa92>, line 7)",
     "output_type": "error",
     "traceback": [
      "\u001b[1;36m  File \u001b[1;32m\"<ipython-input-225-1b3b1e3afa92>\"\u001b[1;36m, line \u001b[1;32m7\u001b[0m\n\u001b[1;33m    return result\u001b[0m\n\u001b[1;37m    ^\u001b[0m\n\u001b[1;31mSyntaxError\u001b[0m\u001b[1;31m:\u001b[0m 'return' outside function\n"
     ]
    }
   ],
   "source": [
    "# short Add one column of  zeros - at the end\n",
    "matrix_a = [[1, 2], [3, 4], [5, 6], [7, 8]]\n",
    "def add_column(matrix):\n",
    "    matrix = np.array(matrix)\n",
    "    new_row = np.zeros(len(matrix))\n",
    "    result = np.column_stack([matrix, new_row])\n",
    "return result\n",
    "#test OK\n",
    "print(\"A last column of zeros was added:\")\n",
    "print(add_column(matrix_a))\n",
    "pass"
   ]
  },
  {
   "cell_type": "code",
   "execution_count": 226,
   "metadata": {
    "ExecuteTime": {
     "end_time": "2021-06-07T12:55:28.752996Z",
     "start_time": "2021-06-07T12:55:28.749066Z"
    }
   },
   "outputs": [
    {
     "name": "stdout",
     "output_type": "stream",
     "text": [
      "Size of the Matrix: 8\n",
      "Rows of the Matrix 4\n",
      "Columns of the Matrix: 2\n",
      "New column to be added: [0. 0. 0. 0.]\n",
      "[[1. 2. 0.]\n",
      " [3. 4. 0.]\n",
      " [5. 6. 0.]\n",
      " [7. 8. 0.]]\n",
      "so lala  \n"
     ]
    }
   ],
   "source": [
    "#Add column, names crazy, please never use, just for demo\n",
    "matrix = [[1, 2], [3, 4], [5, 6], [7, 8]]\n",
    "matrix = np.array(matrix)\n",
    "size_m = matrix.size\n",
    "rows_m = len(matrix)\n",
    "columns_m = int(size_m/rows_m)\n",
    "print(\"Size of the Matrix:\",size_m)\n",
    "print(\"Rows of the Matrix\",rows_m)\n",
    "print(\"Columns of the Matrix:\", columns_m)\n",
    "new_column = np.zeros(rows_m)\n",
    "new_column_array = np.array(new_column)\n",
    "print(\"New column to be added:\",new_column_array)\n",
    "result = np.column_stack([matrix, new_row])\n",
    "#print(matrix)\n",
    "print(result)\n",
    "print(\"so lala  \")"
   ]
  },
  {
   "cell_type": "markdown",
   "metadata": {},
   "source": [
    "Write a function add_matrices(m1, m2) that adds m1 and m2 and returns a new matrix containing their sum. You can assume that m1 and m2 are the same size. You add two matrices by adding their corresponding values."
   ]
  },
  {
   "cell_type": "code",
   "execution_count": 227,
   "metadata": {
    "ExecuteTime": {
     "end_time": "2021-06-07T12:55:42.884497Z",
     "start_time": "2021-06-07T12:55:42.864759Z"
    }
   },
   "outputs": [],
   "source": [
    "def add_matrices(u, v):\n",
    "    return np.add(u, v)\n",
    "\n",
    "pass\n"
   ]
  },
  {
   "cell_type": "markdown",
   "metadata": {},
   "source": [
    "Write a function scalar_mult(s, m) that multiplies a matrix, m, by a scalar, s."
   ]
  },
  {
   "cell_type": "code",
   "execution_count": 228,
   "metadata": {
    "ExecuteTime": {
     "end_time": "2021-06-07T12:55:47.182931Z",
     "start_time": "2021-06-07T12:55:47.178180Z"
    }
   },
   "outputs": [
    {
     "name": "stdout",
     "output_type": "stream",
     "text": [
      "[[ 3  6]\n",
      " [ 9 12]]\n",
      "Result expected:[[3, 6], [9, 12]] \n"
     ]
    }
   ],
   "source": [
    "def scalar_mult(s, m):\n",
    "    result = np.dot(s, m)\n",
    "    print(result)\n",
    "    return(result)\n",
    "\n",
    "#test\n",
    "a = [[1, 2], [3, 4]]\n",
    "scalar_mult(3, a)\n",
    "\n",
    "print(\"Result expected:[[3, 6], [9, 12]] \")\n",
    "\n",
    "\"\"\"\n",
    "      >>> a = [[1, 2], [3, 4]]\n",
    "      >>> scalar_mult(3, a)\n",
    "      [[3, 6], [9, 12]]\n",
    "      >>> b = [[3, 5, 7], [1, 1, 1], [0, 2, 0], [2, 2, 3]]\n",
    "      >>> scalar_mult(10, b)\n",
    "      [[30, 50, 70], [10, 10, 10], [0, 20, 0], [20, 20, 30]]\n",
    "      >>> b\n",
    "      [[3, 5, 7], [1, 1, 1], [0, 2, 0], [2, 2, 3]]\n",
    "\"\"\"\n",
    "pass"
   ]
  },
  {
   "cell_type": "markdown",
   "metadata": {},
   "source": [
    "Write functions row_times_column and matrix_mult:"
   ]
  },
  {
   "cell_type": "code",
   "execution_count": 229,
   "metadata": {
    "ExecuteTime": {
     "end_time": "2021-06-07T12:55:52.098971Z",
     "start_time": "2021-06-07T12:55:52.095060Z"
    }
   },
   "outputs": [
    {
     "name": "stdout",
     "output_type": "stream",
     "text": [
      "[[1, 2], [3, 4]] 0 [[5, 6], [7, 8]] 0\n",
      "17\n",
      "Result expected 19\n",
      "not happy!\n"
     ]
    }
   ],
   "source": [
    "### NOT THE EXPECTED SOLUTION\n",
    "\n",
    "def row_times_column(m1, row, m2, column):\n",
    "    result= np.dot(m1[row],m2[column]) \n",
    "#index of row = index 0  index of column = 1 \n",
    "    print(m1,row,m2,column)\n",
    "    print(result)\n",
    "    return(result)\n",
    "#test\n",
    "row_times_column([[1, 2], [3, 4]], 0, [[5, 6], [7, 8]], 0)\n",
    "\n",
    "print(\"Result expected 19\")\n",
    "print(\"not happy!\")\n",
    "\n",
    "\"\"\"\n",
    "      >>> row_times_column([[1, 2], [3, 4]], 0, [[5, 6], [7, 8]], 0)\n",
    "      19\n",
    "      >>> row_times_column([[1, 2], [3, 4]], 0, [[5, 6], [7, 8]], 1)\n",
    "      22\n",
    "      >>> row_times_column([[1, 2], [3, 4]], 1, [[5, 6], [7, 8]], 0)\n",
    "      43\n",
    "      >>> row_times_column([[1, 2], [3, 4]], 1, [[5, 6], [7, 8]], 1)\n",
    "      50\n",
    "\"\"\"\n",
    "pass"
   ]
  },
  {
   "cell_type": "code",
   "execution_count": 230,
   "metadata": {
    "ExecuteTime": {
     "end_time": "2021-06-07T12:56:10.904256Z",
     "start_time": "2021-06-07T12:56:10.900955Z"
    }
   },
   "outputs": [
    {
     "name": "stdout",
     "output_type": "stream",
     "text": [
      "[[19 22]\n",
      " [43 50]]\n",
      "Result expected: [[19, 22], [43, 50]]\n",
      "[[31 19]\n",
      " [85 55]]\n",
      "Result expcted: [[31, 19], [85, 55]])\n",
      "[[39 54 69]\n",
      " [13 23 33]\n",
      " [14 19 24]]\n",
      "Result expected: [[39, 54, 69], [13, 23, 33], [14, 19, 24]])\n"
     ]
    }
   ],
   "source": [
    "def matrix_mult(m1, m2):\n",
    "    return np.matmul((np.array(m1)), np.array(m2))\n",
    "\n",
    "print(matrix_mult([[1, 2], [3,  4]], [[5, 6], [7, 8]]))\n",
    "print(\"Result expected: [[19, 22], [43, 50]]\")\n",
    "print(matrix_mult([[1, 2, 3], [4,  5, 6]], [[7, 8], [9, 1], [2, 3]]))\n",
    "print(\"Result expcted: [[31, 19], [85, 55]])\")\n",
    "print(matrix_mult([[7, 8], [9, 1], [2, 3]], [[1, 2, 3], [4, 5, 6]]))\n",
    "print(\"Result expected: [[39, 54, 69], [13, 23, 33], [14, 19, 24]])\")\n",
    "# print(matrix_mult([[1, 2], [3,  4]], [[5, 6], [7, 8]]))\n",
    "\n",
    "\n",
    "\n",
    "\"\"\"\n",
    "      >>> matrix_mult([[1, 2], [3,  4]], [[5, 6], [7, 8]])\n",
    "      [[19, 22], [43, 50]]\n",
    "      >>> matrix_mult([[1, 2, 3], [4,  5, 6]], [[7, 8], [9, 1], [2, 3]])\n",
    "      [[31, 19], [85, 55]]\n",
    "      >>> matrix_mult([[7, 8], [9, 1], [2, 3]], [[1, 2, 3], [4, 5, 6]])\n",
    "      [[39, 54, 69], [13, 23, 33], [14, 19, 24]]\n",
    "\"\"\"\n",
    "pass"
   ]
  },
  {
   "cell_type": "markdown",
   "metadata": {},
   "source": [
    "Write a function transpose that takes a matrix as an argument and returns is transpose:"
   ]
  },
  {
   "cell_type": "code",
   "execution_count": 231,
   "metadata": {
    "ExecuteTime": {
     "end_time": "2021-06-07T12:56:20.280054Z",
     "start_time": "2021-06-07T12:56:20.276651Z"
    }
   },
   "outputs": [],
   "source": [
    "def transpose(m):\n",
    "    return np.array(m).T\n",
    "\n",
    "pass\n"
   ]
  },
  {
   "cell_type": "markdown",
   "metadata": {},
   "source": [
    "###The end"
   ]
  },
  {
   "cell_type": "code",
   "execution_count": null,
   "metadata": {},
   "outputs": [],
   "source": []
  }
 ],
 "metadata": {
  "kernelspec": {
   "display_name": "Python 3",
   "language": "python",
   "name": "python3"
  },
  "language_info": {
   "codemirror_mode": {
    "name": "ipython",
    "version": 3
   },
   "file_extension": ".py",
   "mimetype": "text/x-python",
   "name": "python",
   "nbconvert_exporter": "python",
   "pygments_lexer": "ipython3",
   "version": "3.8.8"
  },
  "varInspector": {
   "cols": {
    "lenName": 16,
    "lenType": 16,
    "lenVar": 40
   },
   "kernels_config": {
    "python": {
     "delete_cmd_postfix": "",
     "delete_cmd_prefix": "del ",
     "library": "var_list.py",
     "varRefreshCmd": "print(var_dic_list())"
    },
    "r": {
     "delete_cmd_postfix": ") ",
     "delete_cmd_prefix": "rm(",
     "library": "var_list.r",
     "varRefreshCmd": "cat(var_dic_list()) "
    }
   },
   "types_to_exclude": [
    "module",
    "function",
    "builtin_function_or_method",
    "instance",
    "_Feature"
   ],
   "window_display": false
  }
 },
 "nbformat": 4,
 "nbformat_minor": 2
}
