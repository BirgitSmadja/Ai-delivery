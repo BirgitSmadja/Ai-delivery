{
 "cells": [
  {
   "cell_type": "markdown",
   "id": "9bc647b4",
   "metadata": {},
   "source": [
    "## Remember that the solutions need to be saved int variable provided."
   ]
  },
  {
   "cell_type": "code",
   "execution_count": 1,
   "id": "01ff241f",
   "metadata": {},
   "outputs": [],
   "source": [
    "# Import the needed libraries - only numpy here \n",
    "import numpy as np"
   ]
  },
  {
   "cell_type": "markdown",
   "id": "120ffc53",
   "metadata": {
    "deletable": false,
    "editable": false,
    "nbgrader": {
     "cell_type": "markdown",
     "checksum": "1a39df2a0ee2ece9e42fc92195613df8",
     "grade": false,
     "grade_id": "cell-ae105ff48d81e52c",
     "locked": true,
     "schema_version": 3,
     "solution": false,
     "task": false
    }
   },
   "source": [
    "**13. Create a 10x10 array with random values and find the minimum and maximum values**"
   ]
  },
  {
   "cell_type": "code",
   "execution_count": 35,
   "id": "4212b05b",
   "metadata": {
    "deletable": false,
    "nbgrader": {
     "cell_type": "code",
     "checksum": "e939193eeb6a59d4260517d4af3eaadb",
     "grade": false,
     "grade_id": "cell-d37d68df72162149",
     "locked": false,
     "schema_version": 3,
     "solution": true,
     "task": false
    }
   },
   "outputs": [
    {
     "name": "stdout",
     "output_type": "stream",
     "text": [
      "The Size of the Array is:  (10, 10)\n",
      "The Maximum is:  0.9740525918440549\n",
      "The Minimum is:  0.008377693472429337\n"
     ]
    }
   ],
   "source": [
    "sol1 = np.random.rand(10,10)\n",
    "print(\"The Size of the Array is: \",sol1.shape)\n",
    "max_sol = sol1.max()\n",
    "print(\"The Maximum is: \",max_sol)\n",
    "min_sol = sol1.min()\n",
    "print(\"The Minimum is: \",min_sol)"
   ]
  },
  {
   "cell_type": "code",
   "execution_count": 3,
   "id": "713f2818",
   "metadata": {
    "deletable": false,
    "editable": false,
    "nbgrader": {
     "cell_type": "code",
     "checksum": "783f9069dd18b6ec27701770f225a148",
     "grade": true,
     "grade_id": "cell-f1d4fa08074f4dcd",
     "locked": true,
     "points": 1,
     "schema_version": 3,
     "solution": false,
     "task": false
    }
   },
   "outputs": [],
   "source": [
    "assert sol1.shape == (10,10)"
   ]
  },
  {
   "cell_type": "markdown",
   "id": "5e7c785c",
   "metadata": {},
   "source": [
    "**15. Create a 2d 10x10 array with 1 on the border and 0 inside**"
   ]
  },
  {
   "cell_type": "code",
   "execution_count": 4,
   "id": "bc7d9773",
   "metadata": {
    "deletable": false,
    "nbgrader": {
     "cell_type": "code",
     "checksum": "4f00b53c9ecc26403bf5bd660c3f033c",
     "grade": false,
     "grade_id": "cell-6584e6c544771f0c",
     "locked": false,
     "schema_version": 3,
     "solution": true,
     "task": false
    }
   },
   "outputs": [
    {
     "name": "stdout",
     "output_type": "stream",
     "text": [
      "[[1. 1. 1. 1. 1. 1. 1. 1. 1. 1.]\n",
      " [1. 0. 0. 0. 0. 0. 0. 0. 0. 1.]\n",
      " [1. 0. 0. 0. 0. 0. 0. 0. 0. 1.]\n",
      " [1. 0. 0. 0. 0. 0. 0. 0. 0. 1.]\n",
      " [1. 0. 0. 0. 0. 0. 0. 0. 0. 1.]\n",
      " [1. 0. 0. 0. 0. 0. 0. 0. 0. 1.]\n",
      " [1. 0. 0. 0. 0. 0. 0. 0. 0. 1.]\n",
      " [1. 0. 0. 0. 0. 0. 0. 0. 0. 1.]\n",
      " [1. 0. 0. 0. 0. 0. 0. 0. 0. 1.]\n",
      " [1. 1. 1. 1. 1. 1. 1. 1. 1. 1.]]\n"
     ]
    }
   ],
   "source": [
    "sol2=np.ones((10,10))\n",
    "sol2[1:-1,1:-1]=0\n",
    "print(sol2)"
   ]
  },
  {
   "cell_type": "code",
   "execution_count": 5,
   "id": "c2f55c26",
   "metadata": {
    "deletable": false,
    "editable": false,
    "nbgrader": {
     "cell_type": "code",
     "checksum": "06bd7af6a0273b28869865b4dd35fef5",
     "grade": true,
     "grade_id": "cell-9429aab0f4477a86",
     "locked": true,
     "points": 1,
     "schema_version": 3,
     "solution": false,
     "task": false
    }
   },
   "outputs": [],
   "source": [
    "assert sol2.shape == (10,10)\n",
    "assert sol2[0].all() == 1\n",
    "assert sol2[:,0].all() == 1\n",
    "assert sol2[1][1] == 0\n",
    "assert sol2[2][2] == 0\n",
    "assert sol2[3][3] == 0\n",
    "assert sol2[4][4] == 0\n",
    "assert sol2[1][2] == 0\n",
    "assert sol2[2][3] == 0\n",
    "assert sol2[3][4] == 0\n",
    "assert sol2[4][5] == 0"
   ]
  },
  {
   "cell_type": "markdown",
   "id": "5e279435",
   "metadata": {},
   "source": [
    "**34. How to get all the dates corresponding to the month of July 2016**"
   ]
  },
  {
   "cell_type": "code",
   "execution_count": 34,
   "id": "99620de8",
   "metadata": {
    "deletable": false,
    "nbgrader": {
     "cell_type": "code",
     "checksum": "0c0c212e8014f00f5ede5ec4ea42e584",
     "grade": false,
     "grade_id": "cell-9784b014be5fdf5a",
     "locked": false,
     "schema_version": 3,
     "solution": true,
     "task": false
    }
   },
   "outputs": [
    {
     "name": "stdout",
     "output_type": "stream",
     "text": [
      "Dates in July 2016 (YYYY-MM-DD): \n",
      "\n",
      "['2016-07-01' '2016-07-02' '2016-07-03' '2016-07-04' '2016-07-05'\n",
      " '2016-07-06' '2016-07-07' '2016-07-08' '2016-07-09' '2016-07-10'\n",
      " '2016-07-11' '2016-07-12' '2016-07-13' '2016-07-14' '2016-07-15'\n",
      " '2016-07-16' '2016-07-17' '2016-07-18' '2016-07-19' '2016-07-20'\n",
      " '2016-07-21' '2016-07-22' '2016-07-23' '2016-07-24' '2016-07-25'\n",
      " '2016-07-26' '2016-07-27' '2016-07-28' '2016-07-29' '2016-07-30'\n",
      " '2016-07-31']\n"
     ]
    }
   ],
   "source": [
    "sol3 = np.arange('2016-07','2016-08', dtype='datetime64[D]')\n",
    "print(\"Dates in July 2016 (YYYY-MM-DD): \\n\")\n",
    "print(sol3)"
   ]
  },
  {
   "cell_type": "code",
   "execution_count": 7,
   "id": "6b13edc2",
   "metadata": {
    "deletable": false,
    "editable": false,
    "nbgrader": {
     "cell_type": "code",
     "checksum": "b208a834c29619be08b9f9a7887b7087",
     "grade": true,
     "grade_id": "cell-8beeae591e9b50ed",
     "locked": true,
     "points": 2,
     "schema_version": 3,
     "solution": false,
     "task": false
    }
   },
   "outputs": [],
   "source": [
    "assert sol3.shape == (31,)\n",
    "assert type(sol3[0]) is np.datetime64"
   ]
  },
  {
   "cell_type": "markdown",
   "id": "d8e224a9",
   "metadata": {},
   "source": [
    "**42. Consider two random arrays based on the normal and uniform distributions 10x10 sol41 and sol42, check if they are equal**"
   ]
  },
  {
   "cell_type": "code",
   "execution_count": 8,
   "id": "2156ebee",
   "metadata": {
    "deletable": false,
    "nbgrader": {
     "cell_type": "code",
     "checksum": "52c996342988d9baa17167d47cf5701c",
     "grade": false,
     "grade_id": "cell-5000744434ae05a2",
     "locked": false,
     "schema_version": 3,
     "solution": true,
     "task": false
    }
   },
   "outputs": [
    {
     "name": "stdout",
     "output_type": "stream",
     "text": [
      "Comparision of Values in Normal and Uniform Distributed Arrays: \n",
      " [[False False False False False False False False False False]\n",
      " [False False False False False False False False False False]\n",
      " [False False False False False False False False False False]\n",
      " [False False False False False False False False False False]\n",
      " [False False False False False False False False False False]\n",
      " [False False False False False False False False False False]\n",
      " [False False False False False False False False False False]\n",
      " [False False False False False False False False False False]\n",
      " [False False False False False False False False False False]\n",
      " [False False False False False False False False False False]]\n"
     ]
    }
   ],
   "source": [
    "sol41 = np.random.normal(loc=0.0, scale=1.0, size=(10,10))\n",
    "sol41 = np.array(sol41)\n",
    "#print (\"Normal:\\n\",sol41)\n",
    "sol42 = np.random.uniform(low=-1, high=1, size=(10,10))\n",
    "#print(\"Random:\\n\",sol42)\n",
    "comparisson = (sol41 == sol42)\n",
    "print(\"Comparision of Values in Normal and Uniform Distributed Arrays: \\n\",sol41 == sol42)"
   ]
  },
  {
   "cell_type": "code",
   "execution_count": 9,
   "id": "000567b0",
   "metadata": {
    "deletable": false,
    "editable": false,
    "nbgrader": {
     "cell_type": "code",
     "checksum": "6b10c43e0c33791bc40a0b3e2e9cc071",
     "grade": true,
     "grade_id": "cell-807bf6c3ff3f3b0d",
     "locked": true,
     "points": 2,
     "schema_version": 3,
     "solution": false,
     "task": false
    }
   },
   "outputs": [],
   "source": [
    "bol = True\n",
    "\n",
    "for l in comparisson:\n",
    "    for c in l:\n",
    "        if c:\n",
    "            bol = False\n",
    "\n",
    "\n",
    "assert bol"
   ]
  },
  {
   "cell_type": "markdown",
   "id": "d3a8ce54",
   "metadata": {},
   "source": [
    "**72. How to swap two rows of an array?** "
   ]
  },
  {
   "cell_type": "code",
   "execution_count": 36,
   "id": "1d38f692",
   "metadata": {
    "deletable": false,
    "nbgrader": {
     "cell_type": "code",
     "checksum": "ccca804156ed12777f188de3084a7145",
     "grade": false,
     "grade_id": "cell-079026f268b5211c",
     "locked": false,
     "schema_version": 3,
     "solution": true,
     "task": false
    }
   },
   "outputs": [
    {
     "name": "stdout",
     "output_type": "stream",
     "text": [
      "Array before Swap:\n",
      " [[1 2 3]\n",
      " [4 5 6]]\n",
      "Array after Swap:\n",
      "  [[4 5 6]\n",
      " [1 2 3]]\n"
     ]
    }
   ],
   "source": [
    "sol5 = np.array([[1,2,3],[4,5,6]])\n",
    "print(\"Array before Swap:\\n\",sol5)\n",
    "sol5[[0,1]]=sol5[[1,0]]\n",
    "print(\"Array after Swap:\\n \",sol5)\n"
   ]
  },
  {
   "cell_type": "code",
   "execution_count": 11,
   "id": "58c31b00",
   "metadata": {
    "deletable": false,
    "editable": false,
    "nbgrader": {
     "cell_type": "code",
     "checksum": "1ad68d0086b2abc9dd89dc54d9868d2c",
     "grade": true,
     "grade_id": "cell-e4f878f0864f33bd",
     "locked": true,
     "points": 3,
     "schema_version": 3,
     "solution": false,
     "task": false
    }
   },
   "outputs": [],
   "source": [
    "assert sol5[0][0] == 4\n",
    "assert sol5[0][1] == 5\n",
    "assert sol5[0][2] == 6\n",
    "\n",
    "assert sol5[1][0] == 1\n",
    "assert sol5[1][1] == 2\n",
    "assert sol5[1][2] == 3\n"
   ]
  },
  {
   "cell_type": "markdown",
   "id": "438c1465",
   "metadata": {},
   "source": [
    "**75. How to compute averages using a sliding window over an array?**"
   ]
  },
  {
   "cell_type": "code",
   "execution_count": 43,
   "id": "d8294703",
   "metadata": {
    "deletable": false,
    "nbgrader": {
     "cell_type": "code",
     "checksum": "ff4ef295ceace892027e6fce4f7eb266",
     "grade": false,
     "grade_id": "cell-ccafbda4e4cb7996",
     "locked": false,
     "schema_version": 3,
     "solution": true,
     "task": false
    }
   },
   "outputs": [
    {
     "name": "stdout",
     "output_type": "stream",
     "text": [
      "Array of elements given:\n",
      " [1, 2, 3, 4, 5, 6, 7, 8, 9, 10]\n",
      "Number of elements:  10\n",
      "Sliding Window Averages (sol6):\n",
      " [0.1 0.3 0.6 1.  1.5 2.1 2.8 3.6 4.5 5.5]\n"
     ]
    }
   ],
   "source": [
    "arr =([1,2,3,4,5,6,7,8,9,10])\n",
    "print(\"Array of elements given:\\n\",arr)\n",
    "n=len(arr)\n",
    "print(\"Number of elements: \",n)\n",
    "# A \"Sliding Window\" contains elements from first to  incrementing last.\n",
    "# The values of these elements are incrementally summarized using the cumsum-method.\n",
    "# These increasing sums are divided by the total number of elements, as an average.\n",
    "window_sum_until_element = np.cumsum(arr)\n",
    "sol6 = window_sum_until_element/n\n",
    "print(\"Sliding Window Averages (sol6):\\n\", sol6)"
   ]
  },
  {
   "cell_type": "code",
   "execution_count": 13,
   "id": "6eec0ee9",
   "metadata": {
    "deletable": false,
    "editable": false,
    "nbgrader": {
     "cell_type": "code",
     "checksum": "fabc3056e9ed22951d83c4012d5ec189",
     "grade": true,
     "grade_id": "cell-1983fc0078a860ff",
     "locked": true,
     "points": 3,
     "schema_version": 3,
     "solution": false,
     "task": false
    }
   },
   "outputs": [],
   "source": [
    "assert sol6[-1] == 5.5\n",
    "assert sol6[0] == 0.1\n",
    "assert sol6[4] == 1.5"
   ]
  }
 ],
 "metadata": {
  "interpreter": {
   "hash": "c2ad988b83bc3032ab0bc6c9b326315d9b3145f093b7c28f6f9e14e1089dbd73"
  },
  "kernelspec": {
   "display_name": "Python 3",
   "language": "python",
   "name": "python3"
  },
  "language_info": {
   "codemirror_mode": {
    "name": "ipython",
    "version": 3
   },
   "file_extension": ".py",
   "mimetype": "text/x-python",
   "name": "python",
   "nbconvert_exporter": "python",
   "pygments_lexer": "ipython3",
   "version": "3.8.8"
  }
 },
 "nbformat": 4,
 "nbformat_minor": 5
}
